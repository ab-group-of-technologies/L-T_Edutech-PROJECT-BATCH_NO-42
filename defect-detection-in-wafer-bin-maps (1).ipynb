{
 "cells": [
  {
   "cell_type": "code",
   "execution_count": 1,
   "id": "85ea9624",
   "metadata": {
    "_cell_guid": "b1076dfc-b9ad-4769-8c92-a6c4dae69d19",
    "_uuid": "8f2839f25d086af736a60e9eeb907d3b93b6e0e5",
    "execution": {
     "iopub.execute_input": "2022-01-17T14:34:10.142149Z",
     "iopub.status.busy": "2022-01-17T14:34:10.140973Z",
     "iopub.status.idle": "2022-01-17T14:35:32.666172Z",
     "shell.execute_reply": "2022-01-17T14:35:32.666732Z",
     "shell.execute_reply.started": "2022-01-16T17:03:32.673508Z"
    },
    "papermill": {
     "duration": 82.543765,
     "end_time": "2022-01-17T14:35:32.667042",
     "exception": false,
     "start_time": "2022-01-17T14:34:10.123277",
     "status": "completed"
    },
    "tags": []
   },
   "outputs": [
    {
     "name": "stdout",
     "output_type": "stream",
     "text": [
      "<class 'pandas.core.frame.DataFrame'>\n",
      "RangeIndex: 811457 entries, 0 to 811456\n",
      "Data columns (total 6 columns):\n",
      " #   Column          Non-Null Count   Dtype  \n",
      "---  ------          --------------   -----  \n",
      " 0   waferMap        811457 non-null  object \n",
      " 1   dieSize         811457 non-null  float64\n",
      " 2   lotName         811457 non-null  object \n",
      " 3   waferIndex      811457 non-null  float64\n",
      " 4   trianTestLabel  811457 non-null  object \n",
      " 5   failureType     811457 non-null  object \n",
      "dtypes: float64(2), object(4)\n",
      "memory usage: 37.1+ MB\n"
     ]
    }
   ],
   "source": [
    "#Our goal here is to identify different types of wafer map failure pattern automatically, so that its construction can\n",
    "#be improved, by increasing the accuracy of the manufacturing process.\n",
    "\n",
    "# This Python 3 environment comes with many helpful analytics libraries installed\n",
    "# It is defined by the kaggle/python Docker image: https://github.com/kaggle/docker-python\n",
    "# For example, here's several helpful packages to load\n",
    "\n",
    "# Input data files are available in the read-only \"../input/\" directory\n",
    "# For example, running this (by clicking run or pressing Shift+Enter) will list all files under the input directory\n",
    "\n",
    "\n",
    "# You can write up to 20GB to the current directory (/kaggle/working/) that gets preserved as output when you create a version using \"Save & Run All\" \n",
    "# You can also write temporary files to /kaggle/temp/, but they won't be saved outside of the current session\n",
    "\n",
    "import os\n",
    "from os.path import join\n",
    "\n",
    "import numpy as np\n",
    "import pandas as pd\n",
    "import scipy.io as sio\n",
    "\n",
    "import tensorflow as tf\n",
    "import keras\n",
    "from keras import layers, Input, models\n",
    "#from keras.utils import to_categorical\n",
    "from keras.wrappers.scikit_learn import KerasClassifier \n",
    "from sklearn.model_selection import KFold \n",
    "from sklearn.model_selection import cross_val_score\n",
    "\n",
    "from sklearn.model_selection import train_test_split\n",
    "\n",
    "import matplotlib.pyplot as plt\n",
    "\n",
    "import warnings\n",
    "warnings.filterwarnings(\"ignore\")\n",
    "\n",
    "wafer_bins=pd.read_pickle(\"../input/wm811k-wafer-map/LSWMD.pkl\")\n",
    "wafer_bins.info()"
   ]
  },
  {
   "cell_type": "code",
   "execution_count": 2,
   "id": "a2c38b9c",
   "metadata": {
    "execution": {
     "iopub.execute_input": "2022-01-17T14:35:32.700737Z",
     "iopub.status.busy": "2022-01-17T14:35:32.695765Z",
     "iopub.status.idle": "2022-01-17T14:35:55.107698Z",
     "shell.execute_reply": "2022-01-17T14:35:55.106994Z",
     "shell.execute_reply.started": "2022-01-16T17:04:55.966603Z"
    },
    "papermill": {
     "duration": 22.427663,
     "end_time": "2022-01-17T14:35:55.107854",
     "exception": false,
     "start_time": "2022-01-17T14:35:32.680191",
     "status": "completed"
    },
    "tags": []
   },
   "outputs": [
    {
     "data": {
      "text/html": [
       "<div>\n",
       "<style scoped>\n",
       "    .dataframe tbody tr th:only-of-type {\n",
       "        vertical-align: middle;\n",
       "    }\n",
       "\n",
       "    .dataframe tbody tr th {\n",
       "        vertical-align: top;\n",
       "    }\n",
       "\n",
       "    .dataframe thead th {\n",
       "        text-align: right;\n",
       "    }\n",
       "</style>\n",
       "<table border=\"1\" class=\"dataframe\">\n",
       "  <thead>\n",
       "    <tr style=\"text-align: right;\">\n",
       "      <th></th>\n",
       "      <th>waferMap</th>\n",
       "      <th>dieSize</th>\n",
       "      <th>lotName</th>\n",
       "      <th>waferIndex</th>\n",
       "      <th>trianTestLabel</th>\n",
       "      <th>failureType</th>\n",
       "      <th>failureNum</th>\n",
       "      <th>trainTestNum</th>\n",
       "      <th>waferMapDim</th>\n",
       "    </tr>\n",
       "  </thead>\n",
       "  <tbody>\n",
       "    <tr>\n",
       "      <th>113025</th>\n",
       "      <td>[[0, 0, 0, 0, 0, 0, 0, 0, 0, 0, 1, 1, 1, 1, 1,...</td>\n",
       "      <td>533.0</td>\n",
       "      <td>lot7586</td>\n",
       "      <td>11.0</td>\n",
       "      <td>[]</td>\n",
       "      <td>[]</td>\n",
       "      <td>[]</td>\n",
       "      <td>[]</td>\n",
       "      <td>(26, 26)</td>\n",
       "    </tr>\n",
       "    <tr>\n",
       "      <th>265024</th>\n",
       "      <td>[[0, 0, 0, 0, 0, 0, 0, 0, 0, 0, 0, 0, 0, 0, 0,...</td>\n",
       "      <td>3532.0</td>\n",
       "      <td>lot16413</td>\n",
       "      <td>5.0</td>\n",
       "      <td>[]</td>\n",
       "      <td>[]</td>\n",
       "      <td>[]</td>\n",
       "      <td>[]</td>\n",
       "      <td>(64, 71)</td>\n",
       "    </tr>\n",
       "    <tr>\n",
       "      <th>50673</th>\n",
       "      <td>[[0, 0, 0, 0, 0, 0, 0, 0, 0, 0, 0, 0, 0, 0, 0,...</td>\n",
       "      <td>776.0</td>\n",
       "      <td>lot4143</td>\n",
       "      <td>10.0</td>\n",
       "      <td>[]</td>\n",
       "      <td>[]</td>\n",
       "      <td>[]</td>\n",
       "      <td>[]</td>\n",
       "      <td>(30, 34)</td>\n",
       "    </tr>\n",
       "    <tr>\n",
       "      <th>79141</th>\n",
       "      <td>[[0, 0, 0, 0, 0, 0, 0, 0, 0, 0, 0, 1, 1, 1, 1,...</td>\n",
       "      <td>1187.0</td>\n",
       "      <td>lot5765</td>\n",
       "      <td>11.0</td>\n",
       "      <td>[]</td>\n",
       "      <td>[]</td>\n",
       "      <td>[]</td>\n",
       "      <td>[]</td>\n",
       "      <td>(51, 30)</td>\n",
       "    </tr>\n",
       "    <tr>\n",
       "      <th>254587</th>\n",
       "      <td>[[0, 0, 0, 0, 0, 0, 0, 0, 0, 0, 0, 0, 0, 0, 0,...</td>\n",
       "      <td>4612.0</td>\n",
       "      <td>lot15744</td>\n",
       "      <td>3.0</td>\n",
       "      <td>[]</td>\n",
       "      <td>[]</td>\n",
       "      <td>[]</td>\n",
       "      <td>[]</td>\n",
       "      <td>(81, 73)</td>\n",
       "    </tr>\n",
       "    <tr>\n",
       "      <th>518112</th>\n",
       "      <td>[[0, 0, 0, 0, 0, 0, 0, 0, 0, 0, 0, 2, 1, 2, 2,...</td>\n",
       "      <td>515.0</td>\n",
       "      <td>lot32401</td>\n",
       "      <td>5.0</td>\n",
       "      <td>[]</td>\n",
       "      <td>[]</td>\n",
       "      <td>[]</td>\n",
       "      <td>[]</td>\n",
       "      <td>(25, 27)</td>\n",
       "    </tr>\n",
       "    <tr>\n",
       "      <th>147707</th>\n",
       "      <td>[[0, 0, 0, 0, 0, 0, 0, 0, 0, 0, 0, 0, 0, 0, 0,...</td>\n",
       "      <td>14116.0</td>\n",
       "      <td>lot9458</td>\n",
       "      <td>10.0</td>\n",
       "      <td>[]</td>\n",
       "      <td>[]</td>\n",
       "      <td>[]</td>\n",
       "      <td>[]</td>\n",
       "      <td>(212, 84)</td>\n",
       "    </tr>\n",
       "    <tr>\n",
       "      <th>754512</th>\n",
       "      <td>[[0, 0, 0, 0, 0, 0, 0, 0, 0, 0, 1, 1, 1, 1, 1,...</td>\n",
       "      <td>503.0</td>\n",
       "      <td>lot45226</td>\n",
       "      <td>17.0</td>\n",
       "      <td>[[Training]]</td>\n",
       "      <td>[[none]]</td>\n",
       "      <td>8</td>\n",
       "      <td>0</td>\n",
       "      <td>(27, 25)</td>\n",
       "    </tr>\n",
       "    <tr>\n",
       "      <th>477621</th>\n",
       "      <td>[[0, 0, 0, 0, 0, 0, 0, 0, 0, 0, 0, 0, 0, 0, 0,...</td>\n",
       "      <td>1513.0</td>\n",
       "      <td>lot29523</td>\n",
       "      <td>10.0</td>\n",
       "      <td>[]</td>\n",
       "      <td>[]</td>\n",
       "      <td>[]</td>\n",
       "      <td>[]</td>\n",
       "      <td>(49, 39)</td>\n",
       "    </tr>\n",
       "    <tr>\n",
       "      <th>175442</th>\n",
       "      <td>[[0, 0, 0, 0, 0, 0, 0, 0, 0, 0, 0, 0, 0, 0, 0,...</td>\n",
       "      <td>2393.0</td>\n",
       "      <td>lot11225</td>\n",
       "      <td>10.0</td>\n",
       "      <td>[]</td>\n",
       "      <td>[]</td>\n",
       "      <td>[]</td>\n",
       "      <td>[]</td>\n",
       "      <td>(52, 59)</td>\n",
       "    </tr>\n",
       "  </tbody>\n",
       "</table>\n",
       "</div>"
      ],
      "text/plain": [
       "                                                 waferMap  dieSize   lotName  \\\n",
       "113025  [[0, 0, 0, 0, 0, 0, 0, 0, 0, 0, 1, 1, 1, 1, 1,...    533.0   lot7586   \n",
       "265024  [[0, 0, 0, 0, 0, 0, 0, 0, 0, 0, 0, 0, 0, 0, 0,...   3532.0  lot16413   \n",
       "50673   [[0, 0, 0, 0, 0, 0, 0, 0, 0, 0, 0, 0, 0, 0, 0,...    776.0   lot4143   \n",
       "79141   [[0, 0, 0, 0, 0, 0, 0, 0, 0, 0, 0, 1, 1, 1, 1,...   1187.0   lot5765   \n",
       "254587  [[0, 0, 0, 0, 0, 0, 0, 0, 0, 0, 0, 0, 0, 0, 0,...   4612.0  lot15744   \n",
       "518112  [[0, 0, 0, 0, 0, 0, 0, 0, 0, 0, 0, 2, 1, 2, 2,...    515.0  lot32401   \n",
       "147707  [[0, 0, 0, 0, 0, 0, 0, 0, 0, 0, 0, 0, 0, 0, 0,...  14116.0   lot9458   \n",
       "754512  [[0, 0, 0, 0, 0, 0, 0, 0, 0, 0, 1, 1, 1, 1, 1,...    503.0  lot45226   \n",
       "477621  [[0, 0, 0, 0, 0, 0, 0, 0, 0, 0, 0, 0, 0, 0, 0,...   1513.0  lot29523   \n",
       "175442  [[0, 0, 0, 0, 0, 0, 0, 0, 0, 0, 0, 0, 0, 0, 0,...   2393.0  lot11225   \n",
       "\n",
       "        waferIndex trianTestLabel failureType failureNum trainTestNum  \\\n",
       "113025        11.0             []          []         []           []   \n",
       "265024         5.0             []          []         []           []   \n",
       "50673         10.0             []          []         []           []   \n",
       "79141         11.0             []          []         []           []   \n",
       "254587         3.0             []          []         []           []   \n",
       "518112         5.0             []          []         []           []   \n",
       "147707        10.0             []          []         []           []   \n",
       "754512        17.0   [[Training]]    [[none]]          8            0   \n",
       "477621        10.0             []          []         []           []   \n",
       "175442        10.0             []          []         []           []   \n",
       "\n",
       "       waferMapDim  \n",
       "113025    (26, 26)  \n",
       "265024    (64, 71)  \n",
       "50673     (30, 34)  \n",
       "79141     (51, 30)  \n",
       "254587    (81, 73)  \n",
       "518112    (25, 27)  \n",
       "147707   (212, 84)  \n",
       "754512    (27, 25)  \n",
       "477621    (49, 39)  \n",
       "175442    (52, 59)  "
      ]
     },
     "execution_count": 2,
     "metadata": {},
     "output_type": "execute_result"
    }
   ],
   "source": [
    "#We can see that we will be able to use 811457 wafermaps for the deep learning to detect all detections\n",
    "\n",
    "#After having looked in the dataset, we can see that there is several types of mapping (9 precisely), and data\n",
    "#either for the training or the test. So let's rearrange these information.\n",
    "\n",
    "wafer_bins['failureNum']=wafer_bins.failureType\n",
    "wafer_bins['trainTestNum']=wafer_bins.trianTestLabel\n",
    "mapping_type={'Center':0,'Donut':1,'Edge-Loc':2,'Edge-Ring':3,'Loc':4,'Random':5,'Scratch':6,'Near-full':7,'none':8}\n",
    "mapping_traintest={'Training':0,'Test':1}\n",
    "wafer_bins=wafer_bins.replace({'failureNum':mapping_type, 'trainTestNum':mapping_traintest})\n",
    "\n",
    "def find_dim(x):\n",
    "    dim0=np.size(x,axis=0)\n",
    "    dim1=np.size(x,axis=1)\n",
    "    return dim0,dim1\n",
    "wafer_bins['waferMapDim']=wafer_bins.waferMap.apply(find_dim)\n",
    "\n",
    "wafer_bins.sample(10)"
   ]
  },
  {
   "cell_type": "code",
   "execution_count": 3,
   "id": "ecd29f18",
   "metadata": {
    "execution": {
     "iopub.execute_input": "2022-01-17T14:35:57.864425Z",
     "iopub.status.busy": "2022-01-17T14:35:57.863778Z",
     "iopub.status.idle": "2022-01-17T14:36:02.209806Z",
     "shell.execute_reply": "2022-01-17T14:36:02.208879Z",
     "shell.execute_reply.started": "2022-01-16T17:05:18.81418Z"
    },
    "papermill": {
     "duration": 7.088706,
     "end_time": "2022-01-17T14:36:02.210013",
     "exception": false,
     "start_time": "2022-01-17T14:35:55.121307",
     "status": "completed"
    },
    "tags": []
   },
   "outputs": [
    {
     "name": "stdout",
     "output_type": "stream",
     "text": [
      "172950 25519 147431\n"
     ]
    }
   ],
   "source": [
    "#In this document, we have to choose which wafermaps we need. Because, there are many in which we can see that the \n",
    "#labels have a pattern (we need these ones), and some label without a pattern.\n",
    "\n",
    "#From now on, I will call the variable wafer_bins wb.\n",
    "wb=wafer_bins\n",
    "\n",
    "#Our database will be reduced for sure, so let's see how much it will be.\n",
    "\n",
    "wb_withlabel = wb[(wb['failureNum']>=0) & (wb['failureNum']<=8)]\n",
    "wb_withlabel =wb_withlabel.reset_index()\n",
    "wb_withpattern = wb[(wb['failureNum']>=0) & (wb['failureNum']<=7)]\n",
    "wb_withpattern = wb_withpattern.reset_index()\n",
    "wb_nonpattern = wb[(wb['failureNum']==8)]\n",
    "print(wb_withlabel.shape[0], wb_withpattern.shape[0], wb_nonpattern.shape[0])"
   ]
  },
  {
   "cell_type": "code",
   "execution_count": 4,
   "id": "ace65786",
   "metadata": {
    "execution": {
     "iopub.execute_input": "2022-01-17T14:36:02.250426Z",
     "iopub.status.busy": "2022-01-17T14:36:02.245439Z",
     "iopub.status.idle": "2022-01-17T14:36:05.821256Z",
     "shell.execute_reply": "2022-01-17T14:36:05.821938Z",
     "shell.execute_reply.started": "2022-01-16T17:05:25.706803Z"
    },
    "papermill": {
     "duration": 3.597764,
     "end_time": "2022-01-17T14:36:05.822125",
     "exception": false,
     "start_time": "2022-01-17T14:36:02.224361",
     "status": "completed"
    },
    "tags": []
   },
   "outputs": [
    {
     "data": {
      "image/png": "[encoded data removed]",
      "text/plain": [
       "<Figure size 1080x360 with 1 Axes>"
      ]
     },
     "metadata": {
      "needs_background": "light"
     },
     "output_type": "display_data"
    }
   ],
   "source": [
    "#As we can see, we only choose those we need, so we just don't study the None failure types nor the non-labelled\n",
    "#wafer maps. So we just keep the 25519 wafer maps we need, it really reduces the amount of work. But we still have to\n",
    "#remove the null label. And from now on, we will work with this reduced database.\n",
    "\n",
    "wb=wb_withpattern\n",
    "for i in range(len(wb)):\n",
    "    if len(wb.iloc[i,:]['failureType']) == 0:\n",
    "        wb.remove(wb[i])\n",
    "\n",
    "#Let's show how is organized the distribution of the Failure Types:\n",
    "\n",
    "%matplotlib inline\n",
    "\n",
    "fig = plt.figure(figsize=(15, 5))\n",
    "axe=plt.subplot(1,1,1)\n",
    "\n",
    "uni_pattern=np.unique(wb.failureNum, return_counts=True)\n",
    "labels = ['Center','Donut','Edge-Loc','Edge-Ring','Loc','Random','Scratch','Near-full']\n",
    "axe.bar(uni_pattern[0],uni_pattern[1], color='blue', align='center', alpha=0.9)\n",
    "axe.set_title(\"number  of failure types in wafer maps\")\n",
    "axe.set_ylabel(\"number of pattern wafers\")\n",
    "axe.set_xticklabels(labels)\n",
    "\n",
    "plt.show()"
   ]
  },
  {
   "cell_type": "code",
   "execution_count": 5,
   "id": "dd00919d",
   "metadata": {
    "execution": {
     "iopub.execute_input": "2022-01-17T14:36:05.853571Z",
     "iopub.status.busy": "2022-01-17T14:36:05.852919Z",
     "iopub.status.idle": "2022-01-17T14:36:06.404346Z",
     "shell.execute_reply": "2022-01-17T14:36:06.403838Z",
     "shell.execute_reply.started": "2022-01-16T17:05:29.170776Z"
    },
    "papermill": {
     "duration": 0.568368,
     "end_time": "2022-01-17T14:36:06.404497",
     "exception": false,
     "start_time": "2022-01-17T14:36:05.836129",
     "status": "completed"
    },
    "tags": []
   },
   "outputs": [
    {
     "name": "stdout",
     "output_type": "stream",
     "text": [
      "2.0 0.0 1.0\n",
      "(877, 26, 26) (877, 1)\n"
     ]
    }
   ],
   "source": [
    "#Now we have all the Failure Types we want, we will be able to start the deep learning, and as this problem is\n",
    "#sequential, we will use the sequence to sequence model.\n",
    "\n",
    "#So now, let's settle the parameters of the encoder part.\n",
    "\n",
    "#Our encoder will be composed with a stack of several convolutional neutral networks (CNNs) units where each accepts a \n",
    "#single element of the input sequence, collects information for that element and propagates it forward.\n",
    "\n",
    "#But first, we need a precise shape for the wafer maps we will use, it has to be a square, so we have to choose a\n",
    "#shape, and then we have to create a list of images which are in this shape, and their associated failure types\n",
    "\n",
    "sub_wb = wb.loc[wb['waferMapDim'] == (26, 26)]\n",
    "\n",
    "Imlist = np.ones((1, 26, 26))\n",
    "label = []\n",
    "\n",
    "for i in range(len(sub_wb)):\n",
    "    Imlist = np.concatenate((Imlist, sub_wb.iloc[i,:]['waferMap'].reshape(1, 26, 26)))\n",
    "    label.append(sub_wb.iloc[i,:]['failureType'][0][0])\n",
    "    \n",
    "#The first elemet in Imlist is just composed with ones, so it isn't intersesting, let's remove it\n",
    "Imlist=Imlist[1:]\n",
    "label=np.array(label).reshape((-1,1)) #Column of labels\n",
    "print(Imlist[756][0][10], Imlist[756][0][9], Imlist[756][0][11])\n",
    "#We have all the values of the pixels: 0.0 is for the exterior ofthe wafer map, 2.0 is for the local impure pixel, and \n",
    "#1.0 is for a pure pixel of the wafer map\n",
    "\n",
    "print(np.shape(Imlist),np.shape(label))"
   ]
  },
  {
   "cell_type": "code",
   "execution_count": 6,
   "id": "959fdb88",
   "metadata": {
    "execution": {
     "iopub.execute_input": "2022-01-17T14:36:06.458063Z",
     "iopub.status.busy": "2022-01-17T14:36:06.454673Z",
     "iopub.status.idle": "2022-01-17T14:36:06.619852Z",
     "shell.execute_reply": "2022-01-17T14:36:06.620581Z",
     "shell.execute_reply.started": "2022-01-16T17:05:29.689123Z"
    },
    "papermill": {
     "duration": 0.201148,
     "end_time": "2022-01-17T14:36:06.620922",
     "exception": false,
     "start_time": "2022-01-17T14:36:06.419774",
     "status": "completed"
    },
    "tags": []
   },
   "outputs": [
    {
     "data": {
      "image/png": "[encoded data removed]",
      "text/plain": [
       "<Figure size 432x288 with 1 Axes>"
      ]
     },
     "metadata": {
      "needs_background": "light"
     },
     "output_type": "display_data"
    },
    {
     "name": "stdout",
     "output_type": "stream",
     "text": [
      "label assiociated :  ['Scratch']\n",
      "Center : 90\n",
      "Donut : 1\n",
      "Edge-Loc : 296\n",
      "Edge-Ring : 31\n",
      "Loc : 297\n",
      "Near-full : 16\n",
      "Random : 74\n",
      "Scratch : 72\n"
     ]
    }
   ],
   "source": [
    "#This not the most important part, but we can plot the defected wafer map, if we want to. The 511th data for example\n",
    "plt.imshow(Imlist[756])\n",
    "plt.show()\n",
    "print(\"label assiociated : \", label[756])\n",
    "#Also we can see how much defect labels in this dataset\n",
    "\n",
    "for l in np.unique(label) :\n",
    "    print('{} : {}'.format(l, len(label[label==l])))"
   ]
  },
  {
   "cell_type": "code",
   "execution_count": 7,
   "id": "4ddde0db",
   "metadata": {
    "execution": {
     "iopub.execute_input": "2022-01-17T14:36:06.655331Z",
     "iopub.status.busy": "2022-01-17T14:36:06.654697Z",
     "iopub.status.idle": "2022-01-17T14:36:07.108704Z",
     "shell.execute_reply": "2022-01-17T14:36:07.108180Z",
     "shell.execute_reply.started": "2022-01-16T17:05:29.866773Z"
    },
    "papermill": {
     "duration": 0.47224,
     "end_time": "2022-01-17T14:36:07.108851",
     "exception": false,
     "start_time": "2022-01-17T14:36:06.636611",
     "status": "completed"
    },
    "tags": []
   },
   "outputs": [],
   "source": [
    "Imlist=Imlist.reshape((-1,26,26,1))\n",
    "#With that, each pixel of each image is separated and we will be able to use them separately in order to process the \n",
    "#deep learning\n",
    "\n",
    "new_Imlist = np.zeros((len(Imlist), 26, 26, 3))\n",
    "\n",
    "for w in range(len(Imlist)):\n",
    "    for i in range(26):\n",
    "        for j in range(26):\n",
    "            new_Imlist[w, i, j, int(Imlist[w, i, j])] = 1\n",
    "\n",
    "#In order to process to the deep learning, we have to use data compsed by 1 only. So we have to transform these\n",
    "#0.0, 1.0 or 2.0 in a sequence of 1 and 0. So with these loops, we can say:\n",
    "    #for 0.0: [1,0,0]\n",
    "    #for 1.0: [0,1,0]\n",
    "    #for 2.0: [0,0,1]\n",
    "#And now we can settle our process of deep learning"
   ]
  },
  {
   "cell_type": "code",
   "execution_count": 8,
   "id": "2db2268b",
   "metadata": {
    "execution": {
     "iopub.execute_input": "2022-01-17T14:36:07.147409Z",
     "iopub.status.busy": "2022-01-17T14:36:07.146580Z",
     "iopub.status.idle": "2022-01-17T14:36:08.007452Z",
     "shell.execute_reply": "2022-01-17T14:36:08.006962Z",
     "shell.execute_reply.started": "2022-01-16T17:05:30.30464Z"
    },
    "papermill": {
     "duration": 0.883805,
     "end_time": "2022-01-17T14:36:08.007602",
     "exception": false,
     "start_time": "2022-01-17T14:36:07.123797",
     "status": "completed"
    },
    "tags": []
   },
   "outputs": [
    {
     "name": "stderr",
     "output_type": "stream",
     "text": [
      "\n",
      "User settings:\n",
      "\n",
      "   KMP_AFFINITY=granularity=fine,verbose,compact,1,0\n",
      "   KMP_BLOCKTIME=0\n",
      "   KMP_DUPLICATE_LIB_OK=True\n",
      "   KMP_INIT_AT_FORK=FALSE\n",
      "   KMP_SETTINGS=1\n",
      "   KMP_WARNINGS=0\n",
      "\n",
      "Effective settings:\n",
      "\n",
      "   KMP_ABORT_DELAY=0\n",
      "   KMP_ADAPTIVE_LOCK_PROPS='1,1024'\n",
      "   KMP_ALIGN_ALLOC=64\n",
      "   KMP_ALL_THREADPRIVATE=128\n",
      "   KMP_ATOMIC_MODE=2\n",
      "   KMP_BLOCKTIME=0\n",
      "   KMP_CPUINFO_FILE: value is not defined\n",
      "   KMP_DETERMINISTIC_REDUCTION=false\n",
      "   KMP_DEVICE_THREAD_LIMIT=2147483647\n",
      "   KMP_DISP_NUM_BUFFERS=7\n",
      "   KMP_DUPLICATE_LIB_OK=true\n",
      "   KMP_ENABLE_TASK_THROTTLING=true\n",
      "   KMP_FORCE_REDUCTION: value is not defined\n",
      "   KMP_FOREIGN_THREADS_THREADPRIVATE=true\n",
      "   KMP_FORKJOIN_BARRIER='2,2'\n",
      "   KMP_FORKJOIN_BARRIER_PATTERN='hyper,hyper'\n",
      "   KMP_GTID_MODE=3\n",
      "   KMP_HANDLE_SIGNALS=false\n",
      "   KMP_HOT_TEAMS_MAX_LEVEL=1\n",
      "   KMP_HOT_TEAMS_MODE=0\n",
      "   KMP_INIT_AT_FORK=true\n",
      "   KMP_LIBRARY=throughput\n",
      "   KMP_LOCK_KIND=queuing\n",
      "   KMP_MALLOC_POOL_INCR=1M\n",
      "   KMP_NUM_LOCKS_IN_BLOCK=1\n",
      "   KMP_PLAIN_BARRIER='2,2'\n",
      "   KMP_PLAIN_BARRIER_PATTERN='hyper,hyper'\n",
      "   KMP_REDUCTION_BARRIER='1,1'\n",
      "   KMP_REDUCTION_BARRIER_PATTERN='hyper,hyper'\n",
      "   KMP_SCHEDULE='static,balanced;guided,iterative'\n",
      "   KMP_SETTINGS=true\n",
      "   KMP_SPIN_BACKOFF_PARAMS='4096,100'\n",
      "   KMP_STACKOFFSET=64\n",
      "   KMP_STACKPAD=0\n",
      "   KMP_STACKSIZE=8M\n",
      "   KMP_STORAGE_MAP=false\n",
      "   KMP_TASKING=2\n",
      "   KMP_TASKLOOP_MIN_TASKS=0\n",
      "   KMP_TASK_STEALING_CONSTRAINT=1\n",
      "   KMP_TEAMS_THREAD_LIMIT=4\n",
      "   KMP_TOPOLOGY_METHOD=all\n",
      "   KMP_USE_YIELD=1\n",
      "   KMP_VERSION=false\n",
      "   KMP_WARNINGS=false\n",
      "   OMP_AFFINITY_FORMAT='OMP: pid %P tid %i thread %n bound to OS proc set {%A}'\n",
      "   OMP_ALLOCATOR=omp_default_mem_alloc\n",
      "   OMP_CANCELLATION=false\n",
      "   OMP_DEFAULT_DEVICE=0\n",
      "   OMP_DISPLAY_AFFINITY=false\n",
      "   OMP_DISPLAY_ENV=false\n",
      "   OMP_DYNAMIC=false\n",
      "   OMP_MAX_ACTIVE_LEVELS=1\n",
      "   OMP_MAX_TASK_PRIORITY=0\n",
      "   OMP_NESTED: deprecated; max-active-levels-var=1\n",
      "   OMP_NUM_THREADS: value is not defined\n",
      "   OMP_PLACES: value is not defined\n",
      "   OMP_PROC_BIND='intel'\n",
      "   OMP_SCHEDULE='static'\n",
      "   OMP_STACKSIZE=8M\n",
      "   OMP_TARGET_OFFLOAD=DEFAULT\n",
      "   OMP_THREAD_LIMIT=2147483647\n",
      "   OMP_WAIT_POLICY=PASSIVE\n",
      "   KMP_AFFINITY='verbose,warnings,respect,granularity=fine,compact,1,0'\n",
      "\n",
      "2022-01-17 14:36:07.191362: I tensorflow/core/common_runtime/process_util.cc:146] Creating new thread pool with default inter op setting: 2. Tune using inter_op_parallelism_threads for best performance.\n",
      "2022-01-17 14:36:07.366962: I tensorflow/compiler/mlir/mlir_graph_optimization_pass.cc:185] None of the MLIR Optimization Passes are enabled (registered 2)\n"
     ]
    }
   ],
   "source": [
    "#We have to prepare some data for the training and the test, and define the encoder and decoder.\n",
    "\n",
    "epoch=30\n",
    "batch_size=877\n",
    "\n",
    "input_shape = (26, 26, 3)\n",
    "input_tensor = Input(input_shape)\n",
    "encode = layers.Conv2D(64, (3,3), padding='same', activation='relu')(input_tensor)\n",
    "#Relu activation function, in this case, just keep the values we are convoluting, and it let us do the same for the\n",
    "#output tensor created.\n",
    "\n",
    "#Now that the encoder is settled, we have to code the latent vector, which is the last part of the encoder, and it aims \n",
    "#to encapsulate the information for all input elements in order to help the decoder make accurate predictions.\n",
    "#It acts as the initial hidden state of the decoder part of the model.\n",
    "\n",
    "#Only the highest value of a region is kept.Max pooling is akeeping the most activated pixels (ones with the highest \n",
    "#values) and discards the rest.\n",
    "\n",
    "latent_vector = layers.MaxPool2D()(encode)\n",
    "\n",
    "encoder = models.Model(input_tensor, latent_vector)\n",
    "\n",
    "#And now the decoder, and then connecting all the layers, to finally have the predicted output tensor. A stack of \n",
    "#several recurrent units where each predicts an outputEach recurrent unit accepts a hidden state from the previous \n",
    "#unit and produces and output as well as its own hidden state.\n",
    "\n",
    "decode_layer_1 = layers.Conv2DTranspose(64, (3,3), padding='same', activation='relu') #It is the transposed \n",
    "#convolution layer, so the inverse step as the encoder\n",
    "decode_layer_2 = layers.UpSampling2D() #Repeats the rows and columns of the data by size[0] and size[1] respectively.\n",
    "output_tensor = layers.Conv2DTranspose(3, (3,3), padding='same', activation='sigmoid')\n",
    "\n",
    "#After having regarding the shape I needed for the start of the decoder, I have to define it.\n",
    "decoder_input = Input((13, 13, 64))\n",
    "decode = decode_layer_1(decoder_input)\n",
    "decode = decode_layer_2(decode)\n",
    "\n",
    "decoder = models.Model(decoder_input, output_tensor(decode))\n",
    "\n",
    "#Now we have all the model, let's prepare the dataset, with normal wafers, and noised wafers, so that we will have some \n",
    "#data to make the machine predict their label\n",
    "\n",
    "encoded_Im = encoder.predict(new_Imlist)\n",
    "noised_encoded_Im = encoded_Im + np.random.normal(loc=0, scale=0.1, size = (len(encoded_Im), 13, 13, 64))"
   ]
  },
  {
   "cell_type": "code",
   "execution_count": 9,
   "id": "b7f83001",
   "metadata": {
    "execution": {
     "iopub.execute_input": "2022-01-17T14:36:08.041649Z",
     "iopub.status.busy": "2022-01-17T14:36:08.041015Z",
     "iopub.status.idle": "2022-01-17T14:37:52.970383Z",
     "shell.execute_reply": "2022-01-17T14:37:52.970868Z",
     "shell.execute_reply.started": "2022-01-16T17:05:31.180803Z"
    },
    "papermill": {
     "duration": 104.948242,
     "end_time": "2022-01-17T14:37:52.971065",
     "exception": false,
     "start_time": "2022-01-17T14:36:08.022823",
     "status": "completed"
    },
    "tags": []
   },
   "outputs": [],
   "source": [
    "#When you train a deep learning model, what you’re really doing is tuning its parameters such that it can map a \n",
    "#particular input (say, an image) to some output (a label). Our optimization goal is to chase that sweet spot where our \n",
    "#model’s loss is low, which happens when your parameters are tuned in the right way.\n",
    "\n",
    "#So, to get more data, we just need to make minor alterations to our existing dataset. Minor changes such as flips or \n",
    "#translations or rotations. Our neural network would think these are distinct images anyway.\n",
    "\n",
    "#So here is our augmentation function\n",
    "\n",
    "def gen_data(wafer, label):\n",
    "    encoded_x = encoder.predict(wafer)\n",
    "    \n",
    "    gen_x = np.zeros((1, 26, 26, 3)) # Dummy array for collecting noised wafer\n",
    "    \n",
    "    for i in range((1500//len(wafer)) + 1): # Make wafer until total of wafer to 1500\n",
    "        noised_encoded_x = encoded_x + np.random.normal(loc=0, scale=0.1, size = (len(encoded_x), 13, 13, 64)) \n",
    "        noised_gen_x = decoder.predict(noised_encoded_x)\n",
    "        gen_x = np.concatenate((gen_x, noised_gen_x), axis=0)\n",
    "    \n",
    "    gen_y = np.full((len(gen_x), 1), label) # Also make label vector with same length\n",
    "    \n",
    "    return gen_x[1:], gen_y[1:]  # Return date without 1st dummy data.\n",
    "\n",
    "#And we can apply this function to our dataset to have it full of noised wafer maps\n",
    "\n",
    "for l in np.unique(label):\n",
    "    gen_x, gen_y = gen_data(new_Imlist[np.where(label==l)[0]], l)\n",
    "    new_Imlist = np.concatenate((new_Imlist, gen_x), axis=0)\n",
    "    label = np.concatenate((label, gen_y))"
   ]
  },
  {
   "cell_type": "code",
   "execution_count": 10,
   "id": "424c4103",
   "metadata": {
    "execution": {
     "iopub.execute_input": "2022-01-17T14:37:53.006026Z",
     "iopub.status.busy": "2022-01-17T14:37:53.005442Z",
     "iopub.status.idle": "2022-01-17T14:37:53.015924Z",
     "shell.execute_reply": "2022-01-17T14:37:53.016376Z",
     "shell.execute_reply.started": "2022-01-16T17:07:17.412659Z"
    },
    "papermill": {
     "duration": 0.028587,
     "end_time": "2022-01-17T14:37:53.016539",
     "exception": false,
     "start_time": "2022-01-17T14:37:52.987952",
     "status": "completed"
    },
    "tags": []
   },
   "outputs": [
    {
     "name": "stdout",
     "output_type": "stream",
     "text": [
      "Center : 1620\n",
      "Donut : 1502\n",
      "Edge-Loc : 2072\n",
      "Edge-Ring : 1550\n",
      "Loc : 2079\n",
      "Near-full : 1520\n",
      "Random : 1628\n",
      "Scratch : 1584\n",
      "(13555, 26, 26, 3) (13555, 1)\n"
     ]
    }
   ],
   "source": [
    "#Now we can see the shape of our lists, just to now how big is our dataset\n",
    "for l in np.unique(label) :\n",
    "    print('{} : {}'.format(l, len(label[label==l])))\n",
    "print(np.shape(new_Imlist), np.shape(label))"
   ]
  },
  {
   "cell_type": "code",
   "execution_count": 11,
   "id": "96f4cc6d",
   "metadata": {
    "execution": {
     "iopub.execute_input": "2022-01-17T14:37:53.049729Z",
     "iopub.status.busy": "2022-01-17T14:37:53.049144Z",
     "iopub.status.idle": "2022-01-17T14:37:53.452333Z",
     "shell.execute_reply": "2022-01-17T14:37:53.452930Z",
     "shell.execute_reply.started": "2022-01-16T17:07:17.429538Z"
    },
    "papermill": {
     "duration": 0.421521,
     "end_time": "2022-01-17T14:37:53.453135",
     "exception": false,
     "start_time": "2022-01-17T14:37:53.031614",
     "status": "completed"
    },
    "tags": []
   },
   "outputs": [
    {
     "name": "stdout",
     "output_type": "stream",
     "text": [
      "(13000, 8)\n"
     ]
    }
   ],
   "source": [
    "#In order to process the test, we need a matrix of labels\n",
    "for i, l in enumerate(np.unique(label)):\n",
    "    label[label==l] = i\n",
    "    \n",
    "label = tf.keras.utils.to_categorical(label)\n",
    "\n",
    "#Now we know this information, we can lower the heavyness of the dataset, because it is too huge\n",
    "new_IMLIST=new_Imlist[0:13000]\n",
    "new_LABEL=label[0:13000]\n",
    "test_Imlist=new_Imlist[13001:13554]\n",
    "test_label=label[13001:13554]\n",
    "print(np.shape(new_LABEL))"
   ]
  },
  {
   "cell_type": "code",
   "execution_count": 12,
   "id": "16bac89c",
   "metadata": {
    "execution": {
     "iopub.execute_input": "2022-01-17T14:37:53.487172Z",
     "iopub.status.busy": "2022-01-17T14:37:53.486508Z",
     "iopub.status.idle": "2022-01-17T14:37:53.561372Z",
     "shell.execute_reply": "2022-01-17T14:37:53.562132Z",
     "shell.execute_reply.started": "2022-01-16T17:07:17.897538Z"
    },
    "papermill": {
     "duration": 0.093654,
     "end_time": "2022-01-17T14:37:53.562374",
     "exception": false,
     "start_time": "2022-01-17T14:37:53.468720",
     "status": "completed"
    },
    "tags": []
   },
   "outputs": [
    {
     "name": "stdout",
     "output_type": "stream",
     "text": [
      "(8710, 26, 26, 3) (4290, 26, 26, 3) (8710, 8) (4290, 8)\n"
     ]
    }
   ],
   "source": [
    "#We have to split our slighter dataset in order to process the test\n",
    "im_train, im_test, label_train, label_test = train_test_split(new_IMLIST, new_LABEL, test_size=0.33, random_state=2019)\n",
    "print(np.shape(im_train),np.shape(im_test),np.shape(label_train),np.shape(label_test))"
   ]
  },
  {
   "cell_type": "code",
   "execution_count": 13,
   "id": "ed3921a5",
   "metadata": {
    "execution": {
     "iopub.execute_input": "2022-01-17T14:37:53.602246Z",
     "iopub.status.busy": "2022-01-17T14:37:53.601274Z",
     "iopub.status.idle": "2022-01-17T14:37:53.612212Z",
     "shell.execute_reply": "2022-01-17T14:37:53.611693Z",
     "shell.execute_reply.started": "2022-01-16T17:07:17.988354Z"
    },
    "papermill": {
     "duration": 0.03319,
     "end_time": "2022-01-17T14:37:53.612367",
     "exception": false,
     "start_time": "2022-01-17T14:37:53.579177",
     "status": "completed"
    },
    "tags": []
   },
   "outputs": [],
   "source": [
    "#Let's now create the real model we will use for the CNN test\n",
    "def create_model():\n",
    "    input_shape = (26, 26, 3)\n",
    "    input_tensor = Input(input_shape)\n",
    "\n",
    "    conv_1 = layers.Conv2D(16, (3,3), activation='relu', padding='same')(input_tensor)\n",
    "    conv_2 = layers.Conv2D(64, (3,3), activation='relu', padding='same')(conv_1)\n",
    "    conv_3 = layers.Conv2D(128, (3,3), activation='relu', padding='same')(conv_2)\n",
    "\n",
    "    flat = layers.Flatten()(conv_3)\n",
    "\n",
    "    dense_1 = layers.Dense(512, activation='relu')(flat)\n",
    "    dense_2 = layers.Dense(128, activation='relu')(dense_1)\n",
    "    output_tensor = layers.Dense(8, activation='softmax')(dense_2)\n",
    "\n",
    "    model = models.Model(input_tensor, output_tensor)\n",
    "    model.compile(optimizer='Adam',\n",
    "                 loss='categorical_crossentropy',\n",
    "                 metrics=['accuracy'])\n",
    "\n",
    "    return model"
   ]
  },
  {
   "cell_type": "code",
   "execution_count": 14,
   "id": "1d509eaf",
   "metadata": {
    "execution": {
     "iopub.execute_input": "2022-01-17T14:37:53.651466Z",
     "iopub.status.busy": "2022-01-17T14:37:53.650457Z",
     "iopub.status.idle": "2022-01-17T15:18:00.510125Z",
     "shell.execute_reply": "2022-01-17T15:18:00.509037Z",
     "shell.execute_reply.started": "2022-01-16T17:07:18.001101Z"
    },
    "papermill": {
     "duration": 2406.881955,
     "end_time": "2022-01-17T15:18:00.510713",
     "exception": false,
     "start_time": "2022-01-17T14:37:53.628758",
     "status": "completed"
    },
    "tags": []
   },
   "outputs": [
    {
     "name": "stdout",
     "output_type": "stream",
     "text": [
      "Epoch 1/30\n",
      "7/7 - 28s - loss: 3.3495 - accuracy: 0.1371\n",
      "Epoch 2/30\n",
      "7/7 - 27s - loss: 2.0598 - accuracy: 0.1573\n",
      "Epoch 3/30\n",
      "7/7 - 27s - loss: 2.0250 - accuracy: 0.1703\n",
      "Epoch 4/30\n",
      "7/7 - 27s - loss: 1.9958 - accuracy: 0.1843\n",
      "Epoch 5/30\n",
      "7/7 - 26s - loss: 1.9790 - accuracy: 0.1845\n",
      "Epoch 6/30\n",
      "7/7 - 26s - loss: 1.9579 - accuracy: 0.1914\n",
      "Epoch 7/30\n",
      "7/7 - 28s - loss: 1.9187 - accuracy: 0.2220\n",
      "Epoch 8/30\n",
      "7/7 - 26s - loss: 1.8498 - accuracy: 0.3130\n",
      "Epoch 9/30\n",
      "7/7 - 26s - loss: 1.6949 - accuracy: 0.3603\n",
      "Epoch 10/30\n",
      "7/7 - 26s - loss: 1.4953 - accuracy: 0.4327\n",
      "Epoch 11/30\n",
      "7/7 - 26s - loss: 1.4488 - accuracy: 0.4263\n",
      "Epoch 12/30\n",
      "7/7 - 26s - loss: 1.3645 - accuracy: 0.4473\n",
      "Epoch 13/30\n",
      "7/7 - 27s - loss: 1.3022 - accuracy: 0.4835\n",
      "Epoch 14/30\n",
      "7/7 - 26s - loss: 1.2676 - accuracy: 0.4900\n",
      "Epoch 15/30\n",
      "7/7 - 26s - loss: 1.2125 - accuracy: 0.5222\n",
      "Epoch 16/30\n",
      "7/7 - 27s - loss: 1.3230 - accuracy: 0.4967\n",
      "Epoch 17/30\n",
      "7/7 - 27s - loss: 1.3997 - accuracy: 0.4537\n",
      "Epoch 18/30\n",
      "7/7 - 26s - loss: 1.2689 - accuracy: 0.5005\n",
      "Epoch 19/30\n",
      "7/7 - 27s - loss: 1.1960 - accuracy: 0.5348\n",
      "Epoch 20/30\n",
      "7/7 - 26s - loss: 1.1371 - accuracy: 0.5555\n",
      "Epoch 21/30\n",
      "7/7 - 27s - loss: 1.0983 - accuracy: 0.5711\n",
      "Epoch 22/30\n",
      "7/7 - 26s - loss: 1.0801 - accuracy: 0.5734\n",
      "Epoch 23/30\n",
      "7/7 - 27s - loss: 1.0539 - accuracy: 0.5846\n",
      "Epoch 24/30\n",
      "7/7 - 27s - loss: 1.0267 - accuracy: 0.5980\n",
      "Epoch 25/30\n",
      "7/7 - 26s - loss: 1.0406 - accuracy: 0.5906\n",
      "Epoch 26/30\n",
      "7/7 - 27s - loss: 1.0179 - accuracy: 0.6014\n",
      "Epoch 27/30\n",
      "7/7 - 27s - loss: 0.9855 - accuracy: 0.6109\n",
      "Epoch 28/30\n",
      "7/7 - 26s - loss: 0.9338 - accuracy: 0.6321\n",
      "Epoch 29/30\n",
      "7/7 - 27s - loss: 0.9829 - accuracy: 0.6104\n",
      "Epoch 30/30\n",
      "7/7 - 26s - loss: 0.9322 - accuracy: 0.6385\n",
      "4/4 - 4s - loss: 1.1024 - accuracy: 0.5737\n",
      "Epoch 1/30\n",
      "7/7 - 27s - loss: 3.6990 - accuracy: 0.1405\n",
      "Epoch 2/30\n",
      "7/7 - 26s - loss: 2.0672 - accuracy: 0.1584\n",
      "Epoch 3/30\n",
      "7/7 - 26s - loss: 2.0399 - accuracy: 0.1571\n",
      "Epoch 4/30\n",
      "7/7 - 27s - loss: 2.0318 - accuracy: 0.1648\n",
      "Epoch 5/30\n",
      "7/7 - 26s - loss: 2.0149 - accuracy: 0.1634\n",
      "Epoch 6/30\n",
      "7/7 - 27s - loss: 1.9926 - accuracy: 0.1901\n",
      "Epoch 7/30\n",
      "7/7 - 27s - loss: 1.9683 - accuracy: 0.2185\n",
      "Epoch 8/30\n",
      "7/7 - 27s - loss: 1.9112 - accuracy: 0.2957\n",
      "Epoch 9/30\n",
      "7/7 - 27s - loss: 1.8504 - accuracy: 0.3172\n",
      "Epoch 10/30\n",
      "7/7 - 27s - loss: 1.7805 - accuracy: 0.3432\n",
      "Epoch 11/30\n",
      "7/7 - 27s - loss: 1.6600 - accuracy: 0.3639\n",
      "Epoch 12/30\n",
      "7/7 - 27s - loss: 1.5216 - accuracy: 0.4217\n",
      "Epoch 13/30\n",
      "7/7 - 27s - loss: 1.4181 - accuracy: 0.4436\n",
      "Epoch 14/30\n",
      "7/7 - 26s - loss: 1.3372 - accuracy: 0.4768\n",
      "Epoch 15/30\n",
      "7/7 - 27s - loss: 1.3829 - accuracy: 0.4526\n",
      "Epoch 16/30\n",
      "7/7 - 27s - loss: 1.2799 - accuracy: 0.5135\n",
      "Epoch 17/30\n",
      "7/7 - 27s - loss: 1.1736 - accuracy: 0.5455\n",
      "Epoch 18/30\n",
      "7/7 - 27s - loss: 1.1437 - accuracy: 0.5535\n",
      "Epoch 19/30\n",
      "7/7 - 26s - loss: 1.1785 - accuracy: 0.5276\n",
      "Epoch 20/30\n",
      "7/7 - 27s - loss: 1.1121 - accuracy: 0.5621\n",
      "Epoch 21/30\n",
      "7/7 - 27s - loss: 1.0555 - accuracy: 0.5910\n",
      "Epoch 22/30\n",
      "7/7 - 27s - loss: 1.0886 - accuracy: 0.5781\n",
      "Epoch 23/30\n",
      "7/7 - 27s - loss: 1.0667 - accuracy: 0.5855\n",
      "Epoch 24/30\n",
      "7/7 - 26s - loss: 1.0224 - accuracy: 0.6008\n",
      "Epoch 25/30\n",
      "7/7 - 27s - loss: 0.9897 - accuracy: 0.6091\n",
      "Epoch 26/30\n",
      "7/7 - 27s - loss: 0.9691 - accuracy: 0.6201\n",
      "Epoch 27/30\n",
      "7/7 - 27s - loss: 0.9353 - accuracy: 0.6267\n",
      "Epoch 28/30\n",
      "7/7 - 27s - loss: 0.9201 - accuracy: 0.6370\n",
      "Epoch 29/30\n",
      "7/7 - 26s - loss: 0.8935 - accuracy: 0.6490\n",
      "Epoch 30/30\n",
      "7/7 - 27s - loss: 0.8659 - accuracy: 0.6583\n",
      "4/4 - 4s - loss: 1.0364 - accuracy: 0.6014\n",
      "Epoch 1/30\n",
      "7/7 - 27s - loss: 3.0134 - accuracy: 0.1323\n",
      "Epoch 2/30\n",
      "7/7 - 26s - loss: 2.0533 - accuracy: 0.1564\n",
      "Epoch 3/30\n",
      "7/7 - 27s - loss: 2.0220 - accuracy: 0.1662\n",
      "Epoch 4/30\n",
      "7/7 - 26s - loss: 2.0006 - accuracy: 0.1703\n",
      "Epoch 5/30\n",
      "7/7 - 26s - loss: 1.9650 - accuracy: 0.2010\n",
      "Epoch 6/30\n",
      "7/7 - 26s - loss: 1.9087 - accuracy: 0.2738\n",
      "Epoch 7/30\n",
      "7/7 - 27s - loss: 1.8495 - accuracy: 0.3119\n",
      "Epoch 8/30\n",
      "7/7 - 27s - loss: 1.7096 - accuracy: 0.3601\n",
      "Epoch 9/30\n",
      "7/7 - 26s - loss: 1.5434 - accuracy: 0.4448\n",
      "Epoch 10/30\n",
      "7/7 - 26s - loss: 1.4085 - accuracy: 0.4799\n",
      "Epoch 11/30\n",
      "7/7 - 27s - loss: 1.2784 - accuracy: 0.4997\n",
      "Epoch 12/30\n",
      "7/7 - 26s - loss: 1.2179 - accuracy: 0.5163\n",
      "Epoch 13/30\n",
      "7/7 - 26s - loss: 1.1719 - accuracy: 0.5481\n",
      "Epoch 14/30\n",
      "7/7 - 27s - loss: 1.1167 - accuracy: 0.5598\n",
      "Epoch 15/30\n",
      "7/7 - 27s - loss: 1.0674 - accuracy: 0.5705\n",
      "Epoch 16/30\n",
      "7/7 - 27s - loss: 1.0330 - accuracy: 0.5865\n",
      "Epoch 17/30\n",
      "7/7 - 27s - loss: 0.9937 - accuracy: 0.6180\n",
      "Epoch 18/30\n",
      "7/7 - 26s - loss: 0.9647 - accuracy: 0.6163\n",
      "Epoch 19/30\n",
      "7/7 - 27s - loss: 0.9495 - accuracy: 0.6217\n",
      "Epoch 20/30\n",
      "7/7 - 27s - loss: 0.9289 - accuracy: 0.6286\n",
      "Epoch 21/30\n",
      "7/7 - 27s - loss: 0.9310 - accuracy: 0.6360\n",
      "Epoch 22/30\n",
      "7/7 - 28s - loss: 0.8840 - accuracy: 0.6516\n",
      "Epoch 23/30\n",
      "7/7 - 27s - loss: 0.8732 - accuracy: 0.6571\n",
      "Epoch 24/30\n",
      "7/7 - 26s - loss: 0.8539 - accuracy: 0.6621\n",
      "Epoch 25/30\n",
      "7/7 - 27s - loss: 0.8212 - accuracy: 0.6725\n",
      "Epoch 26/30\n",
      "7/7 - 26s - loss: 0.8191 - accuracy: 0.6742\n",
      "Epoch 27/30\n",
      "7/7 - 27s - loss: 0.7863 - accuracy: 0.6878\n",
      "Epoch 28/30\n",
      "7/7 - 27s - loss: 0.8152 - accuracy: 0.6818\n",
      "Epoch 29/30\n",
      "7/7 - 27s - loss: 0.7754 - accuracy: 0.6905\n",
      "Epoch 30/30\n",
      "7/7 - 27s - loss: 0.7557 - accuracy: 0.7028\n",
      "4/4 - 4s - loss: 0.9506 - accuracy: 0.6462\n",
      "[0.57369149 0.60144681 0.64622802]\n",
      "training accuracy =  0.6071221033732096\n"
     ]
    }
   ],
   "source": [
    "model =KerasClassifier(build_fn=create_model, epochs=30, batch_size=877, verbose=2) \n",
    "# 3-Fold Crossvalidation\n",
    "kfold = KFold(n_splits=3, shuffle=True, random_state=2019) \n",
    "results = cross_val_score(model, im_train, label_train, cv=kfold)\n",
    "print(results)\n",
    "print(\"training accuracy = \", np.mean(results))"
   ]
  },
  {
   "cell_type": "code",
   "execution_count": 15,
   "id": "e8812dd7",
   "metadata": {
    "execution": {
     "iopub.execute_input": "2022-01-17T15:18:00.639263Z",
     "iopub.status.busy": "2022-01-17T15:18:00.636218Z",
     "iopub.status.idle": "2022-01-17T15:40:49.886022Z",
     "shell.execute_reply": "2022-01-17T15:40:49.886560Z",
     "shell.execute_reply.started": "2022-01-16T17:47:50.516326Z"
    },
    "papermill": {
     "duration": 1369.314592,
     "end_time": "2022-01-17T15:40:49.886885",
     "exception": false,
     "start_time": "2022-01-17T15:18:00.572293",
     "status": "completed"
    },
    "tags": []
   },
   "outputs": [
    {
     "name": "stdout",
     "output_type": "stream",
     "text": [
      "Epoch 1/30\n",
      "10/10 - 47s - loss: 2.4662 - accuracy: 0.1470 - val_loss: 2.0699 - val_accuracy: 0.1711\n",
      "Epoch 2/30\n",
      "10/10 - 46s - loss: 2.0589 - accuracy: 0.1544 - val_loss: 2.0326 - val_accuracy: 0.1716\n",
      "Epoch 3/30\n",
      "10/10 - 46s - loss: 2.0266 - accuracy: 0.1530 - val_loss: 1.9986 - val_accuracy: 0.1716\n",
      "Epoch 4/30\n",
      "10/10 - 46s - loss: 1.9766 - accuracy: 0.2325 - val_loss: 1.9308 - val_accuracy: 0.1725\n",
      "Epoch 5/30\n",
      "10/10 - 46s - loss: 1.8809 - accuracy: 0.3163 - val_loss: 1.7766 - val_accuracy: 0.3937\n",
      "Epoch 6/30\n",
      "10/10 - 46s - loss: 1.6998 - accuracy: 0.3869 - val_loss: 1.5708 - val_accuracy: 0.4107\n",
      "Epoch 7/30\n",
      "10/10 - 46s - loss: 1.5874 - accuracy: 0.3605 - val_loss: 1.6803 - val_accuracy: 0.3089\n",
      "Epoch 8/30\n",
      "10/10 - 45s - loss: 1.4429 - accuracy: 0.4574 - val_loss: 1.3837 - val_accuracy: 0.4809\n",
      "Epoch 9/30\n",
      "10/10 - 47s - loss: 1.2856 - accuracy: 0.5243 - val_loss: 1.2520 - val_accuracy: 0.5543\n",
      "Epoch 10/30\n",
      "10/10 - 46s - loss: 1.1662 - accuracy: 0.5731 - val_loss: 1.1791 - val_accuracy: 0.5429\n",
      "Epoch 11/30\n",
      "10/10 - 45s - loss: 1.2066 - accuracy: 0.5303 - val_loss: 1.3283 - val_accuracy: 0.4893\n",
      "Epoch 12/30\n",
      "10/10 - 46s - loss: 1.1182 - accuracy: 0.5726 - val_loss: 1.1460 - val_accuracy: 0.5492\n",
      "Epoch 13/30\n",
      "10/10 - 45s - loss: 1.0436 - accuracy: 0.5997 - val_loss: 1.0908 - val_accuracy: 0.5811\n",
      "Epoch 14/30\n",
      "10/10 - 45s - loss: 0.9777 - accuracy: 0.6303 - val_loss: 1.0376 - val_accuracy: 0.5890\n",
      "Epoch 15/30\n",
      "10/10 - 46s - loss: 0.9255 - accuracy: 0.6481 - val_loss: 1.0074 - val_accuracy: 0.6105\n",
      "Epoch 16/30\n",
      "10/10 - 45s - loss: 0.8929 - accuracy: 0.6542 - val_loss: 1.0072 - val_accuracy: 0.5949\n",
      "Epoch 17/30\n",
      "10/10 - 45s - loss: 0.8685 - accuracy: 0.6560 - val_loss: 0.9652 - val_accuracy: 0.6212\n",
      "Epoch 18/30\n",
      "10/10 - 46s - loss: 0.8282 - accuracy: 0.6758 - val_loss: 0.9736 - val_accuracy: 0.6184\n",
      "Epoch 19/30\n",
      "10/10 - 45s - loss: 0.7918 - accuracy: 0.6920 - val_loss: 0.9034 - val_accuracy: 0.6410\n",
      "Epoch 20/30\n",
      "10/10 - 46s - loss: 0.7676 - accuracy: 0.7062 - val_loss: 0.8892 - val_accuracy: 0.6611\n",
      "Epoch 21/30\n",
      "10/10 - 45s - loss: 0.7464 - accuracy: 0.7145 - val_loss: 0.8836 - val_accuracy: 0.6529\n",
      "Epoch 22/30\n",
      "10/10 - 45s - loss: 0.7500 - accuracy: 0.7086 - val_loss: 0.9062 - val_accuracy: 0.6478\n",
      "Epoch 23/30\n",
      "10/10 - 46s - loss: 0.7071 - accuracy: 0.7325 - val_loss: 0.8454 - val_accuracy: 0.6709\n",
      "Epoch 24/30\n",
      "10/10 - 45s - loss: 0.6606 - accuracy: 0.7452 - val_loss: 0.8210 - val_accuracy: 0.6818\n",
      "Epoch 25/30\n",
      "10/10 - 45s - loss: 0.6431 - accuracy: 0.7511 - val_loss: 0.8280 - val_accuracy: 0.6774\n",
      "Epoch 26/30\n",
      "10/10 - 46s - loss: 0.6539 - accuracy: 0.7501 - val_loss: 0.8300 - val_accuracy: 0.6788\n",
      "Epoch 27/30\n",
      "10/10 - 45s - loss: 0.6150 - accuracy: 0.7669 - val_loss: 0.8353 - val_accuracy: 0.6727\n",
      "Epoch 28/30\n",
      "10/10 - 46s - loss: 0.6031 - accuracy: 0.7680 - val_loss: 0.8192 - val_accuracy: 0.6814\n",
      "Epoch 29/30\n",
      "10/10 - 46s - loss: 0.6007 - accuracy: 0.7657 - val_loss: 0.8062 - val_accuracy: 0.6911\n",
      "Epoch 30/30\n",
      "10/10 - 46s - loss: 0.5728 - accuracy: 0.7806 - val_loss: 0.8097 - val_accuracy: 0.6949\n"
     ]
    }
   ],
   "source": [
    "#Now we have done the training is done, let's validate the learning with the test dataset\n",
    "history = model.fit(im_train, label_train, epochs=epoch, batch_size=batch_size, validation_data=(im_test, label_test))"
   ]
  },
  {
   "cell_type": "code",
   "execution_count": 16,
   "id": "82124f00",
   "metadata": {
    "execution": {
     "iopub.execute_input": "2022-01-17T15:40:50.032504Z",
     "iopub.status.busy": "2022-01-17T15:40:50.031446Z",
     "iopub.status.idle": "2022-01-17T15:40:56.168048Z",
     "shell.execute_reply": "2022-01-17T15:40:56.167310Z",
     "shell.execute_reply.started": "2022-01-16T18:10:45.758508Z"
    },
    "papermill": {
     "duration": 6.21073,
     "end_time": "2022-01-17T15:40:56.168201",
     "exception": false,
     "start_time": "2022-01-17T15:40:49.957471",
     "status": "completed"
    },
    "tags": []
   },
   "outputs": [
    {
     "name": "stdout",
     "output_type": "stream",
     "text": [
      "5/5 - 6s - loss: 0.8097 - accuracy: 0.6949\n",
      "Testing Accuracy: 0.6948717832565308\n"
     ]
    }
   ],
   "source": [
    "#And finally let's see what is the testing accuracy\n",
    "\n",
    "score = model.score(im_test, label_test)\n",
    "print('Testing Accuracy:',score)"
   ]
  },
  {
   "cell_type": "code",
   "execution_count": 17,
   "id": "4543b90a",
   "metadata": {
    "execution": {
     "iopub.execute_input": "2022-01-17T15:40:56.322567Z",
     "iopub.status.busy": "2022-01-17T15:40:56.321919Z",
     "iopub.status.idle": "2022-01-17T15:40:56.728071Z",
     "shell.execute_reply": "2022-01-17T15:40:56.727394Z",
     "shell.execute_reply.started": "2022-01-16T18:10:52.005651Z"
    },
    "papermill": {
     "duration": 0.488287,
     "end_time": "2022-01-17T15:40:56.728218",
     "exception": false,
     "start_time": "2022-01-17T15:40:56.239931",
     "status": "completed"
    },
    "tags": []
   },
   "outputs": [
    {
     "data": {
      "image/png": "[encoded data removed]",
      "text/plain": [
       "<Figure size 432x288 with 1 Axes>"
      ]
     },
     "metadata": {
      "needs_background": "light"
     },
     "output_type": "display_data"
    },
    {
     "data": {
      "image/png": "[encoded data removed]",
      "text/plain": [
       "<Figure size 432x288 with 1 Axes>"
      ]
     },
     "metadata": {
      "needs_background": "light"
     },
     "output_type": "display_data"
    }
   ],
   "source": [
    "#Let's now plot the differnces in the losses and the accuracies between the training and the test\n",
    "plt.plot(history.history['accuracy'])\n",
    "plt.plot(history.history['val_accuracy'])\n",
    "plt.title('model accuracy')\n",
    "plt.ylabel('accuracy')\n",
    "plt.xlabel('epoch')\n",
    "plt.legend(['train', 'test'], loc='upper left')\n",
    "plt.show()\n",
    "\n",
    "plt.plot(history.history['loss'])\n",
    "plt.plot(history.history['val_loss'])\n",
    "plt.title('model loss')\n",
    "plt.ylabel('loss')\n",
    "plt.xlabel('epoch')\n",
    "plt.legend(['train', 'test'], loc='upper left')\n",
    "plt.show()"
   ]
  }
 ],
 "metadata": {
  "kernelspec": {
   "display_name": "Python 3",
   "language": "python",
   "name": "python3"
  },
  "language_info": {
   "codemirror_mode": {
    "name": "ipython",
    "version": 3
   },
   "file_extension": ".py",
   "mimetype": "text/x-python",
   "name": "python",
   "nbconvert_exporter": "python",
   "pygments_lexer": "ipython3",
   "version": "3.7.12"
  },
  "papermill": {
   "default_parameters": {},
   "duration": 4018.613542,
   "end_time": "2022-01-17T15:40:59.824792",
   "environment_variables": {},
   "exception": null,
   "input_path": "__notebook__.ipynb",
   "output_path": "__notebook__.ipynb",
   "parameters": {},
   "start_time": "2022-01-17T14:34:01.211250",
   "version": "2.3.3"
  }
 },
 "nbformat": 4,
 "nbformat_minor": 5
}
